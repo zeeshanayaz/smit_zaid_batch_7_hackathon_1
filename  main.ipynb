{
 "cells": [
  {
   "cell_type": "code",
   "execution_count": 128,
   "id": "22266cb8-e26f-4801-a8f0-879ff4e07d68",
   "metadata": {},
   "outputs": [],
   "source": [
    "import os\n",
    "\n",
    "USER_FILE = \"users.txt\"\n",
    "ACCOUNTS_FILE = \"accounts.txt\"\n",
    "TRANSACTION_FILE = \"transactions.txt\""
   ]
  },
  {
   "cell_type": "code",
   "execution_count": 129,
   "id": "dd520c81-f5a6-4e18-b244-1297d146adf9",
   "metadata": {},
   "outputs": [],
   "source": [
    "def main():\n",
    "    while True:\n",
    "        print('''\n",
    "1 > Continue to Login\n",
    "2 > Exit\n",
    "''')\n",
    "        option = input('Welcome to Banking System. Do you want to Continue? (Y to Continue) (N to Exit)').lower()\n",
    "\n",
    "        try:\n",
    "            if option == '1' or option == 'y' or option == 'login':\n",
    "                login()\n",
    "            elif option == '2' or option == 'n' or option == 'exit' or option == 'e':\n",
    "                print('Quiting System.')\n",
    "                break\n",
    "            else:\n",
    "                print('Invalid option. Please select a valid operation.')\n",
    "            \n",
    "        except ValueError:\n",
    "            print('Invalid input. Please enter a valid input.')"
   ]
  },
  {
   "cell_type": "code",
   "execution_count": 130,
   "id": "98a03316-75dd-46d4-8b3e-b3613ddfd7c5",
   "metadata": {},
   "outputs": [],
   "source": [
    "class User:\n",
    "    def __init__(self, user_name, user_type):\n",
    "        self.__user_name = user_name\n",
    "        self.__user_type = user_type\n",
    "\n",
    "    def get_user_name(self):\n",
    "        return self.__user_name\n",
    "    \n",
    "    def get_user_type(self):\n",
    "        return self.__user_type"
   ]
  },
  {
   "cell_type": "code",
   "execution_count": 131,
   "id": "560798c2-ed79-44b0-9616-49f553de18c6",
   "metadata": {},
   "outputs": [],
   "source": [
    "def authenticateUser(user_name_arg, password_arg):\n",
    "    if not os.path.exists(USER_FILE):\n",
    "        print(\"User list file not found.\")\n",
    "        return\n",
    "    \n",
    "    with open(USER_FILE, \"r\") as file:\n",
    "        users = file.readlines()\n",
    "        \n",
    "        for user in users:\n",
    "            user_name, password, user_type = user.strip().split(\",\")\n",
    "            if user_name == user_name_arg and password == password_arg:\n",
    "                return User(user_name, user_type)\n",
    "        print('Invalid credentials. No user found!')\n",
    "        return None"
   ]
  },
  {
   "cell_type": "code",
   "execution_count": 132,
   "id": "709d8566-9bb6-4a0b-aa45-16b2b2523ab5",
   "metadata": {},
   "outputs": [],
   "source": [
    "def login(): \n",
    "    user_name = input('Enter UserName: ')\n",
    "    password = input('Enter Password: ')\n",
    "    user = authenticateUser(user_name, password)\n",
    "    if not user == None:\n",
    "        if user.get_user_type().lower() == 'admin':\n",
    "            adminRoles(user)\n",
    "        elif user.get_user_type().lower() == 'user':\n",
    "            userRoles(user)\n",
    "        else:\n",
    "            print(f'Invalid user type. No supported operation for user type {user.get_user_type()}.')\n",
    "    else:\n",
    "        return"
   ]
  },
  {
   "cell_type": "code",
   "execution_count": 147,
   "id": "f52ec812-f8e7-426c-af6a-1e36cc3618e6",
   "metadata": {},
   "outputs": [],
   "source": [
    "def userRoles(user):\n",
    "    while True:\n",
    "        print(f'''\n",
    "/Dashboard\n",
    "***** Hello {user.get_user_name()} - {user.get_user_type().upper()} *****\n",
    "1 > Check Balance\n",
    "2 > Deposit Amount\n",
    "3 > Withdraw Amount\n",
    "4 > Statement\n",
    "5 > Exit\n",
    "''')\n",
    "        try:\n",
    "            operation = input('Select what operation to perform: ')\n",
    "            \n",
    "            if operation == '1':\n",
    "                print('**** /Dashboard/Check Balance ****')\n",
    "                account_no_filter = input('Enter your account number: ')\n",
    "                account_data = load_user(account_no_filter)\n",
    "                if account_data is not None:\n",
    "                    print(f'Account Title: {account_data[\"account_title\"]} has ${account_data[\"balance\"]} balance in account. ')\n",
    "            \n",
    "            elif operation == '2':\n",
    "                print('**** /Dashboard/Deposit Amount ****')\n",
    "                account_no_filter = input('Enter your account number: ')\n",
    "                account_data = load_user(account_no_filter)\n",
    "                if account_data is not None:\n",
    "                    amount = float(input('Enter amount to deposit: '))\n",
    "                    deposit(account_data, amount)\n",
    "            \n",
    "            elif operation == '3':\n",
    "                print('**** /Dashboard/Withdraw Amount ****')\n",
    "                account_no_filter = input('Enter your account number: ')\n",
    "                account_data = load_user(account_no_filter)\n",
    "                if account_data is not None:\n",
    "                    amount = float(input('Enter amount to deposit: '))\n",
    "                    withdraw(account_data, amount)\n",
    "            \n",
    "            elif operation == '4':\n",
    "                print('**** /Dashboard/Statement ****')\n",
    "                account_no_filter = input('Enter your account number: ')\n",
    "                account_data = load_user(account_no_filter)\n",
    "                if account_data is not None:\n",
    "                    load_statement(account_data)\n",
    "                    \n",
    "            elif operation == '5':\n",
    "                print('Exit')\n",
    "                break\n",
    "                \n",
    "            else:\n",
    "                print('Invalid option. Please select a valid operation.')\n",
    "        \n",
    "        except ValueError:\n",
    "            print('Invalid input. Please enter a valid input.')"
   ]
  },
  {
   "cell_type": "code",
   "execution_count": 134,
   "id": "1f316f02-03e1-4155-8bab-423550aeeb34",
   "metadata": {},
   "outputs": [],
   "source": [
    "def adminRoles(user):\n",
    "    while True:\n",
    "        print(f'''\n",
    "/Dashboard\n",
    "***** Hello {user.get_user_name()} - {user.get_user_type().upper()} *****\n",
    "1 > Create New User Account\n",
    "2 > View total deposits in the bank. \n",
    "3 > View total withdrawal in the bank. \n",
    "4 > Check the total number of accounts.\n",
    "5 > Exit\n",
    "''')\n",
    "        try:\n",
    "            operation = input('Select what operation to perform: ')\n",
    "            \n",
    "            if operation == '1':\n",
    "                print('**** /Dashboard/Create New User Account ****')\n",
    "                account_user_name = input('Enter the User Name: ')\n",
    "                account_title = input('Enter the Account Title: ')\n",
    "                account_number = input('Enter the Account Number: ')\n",
    "                create_account(account_title, account_number, account_user_name)\n",
    "            \n",
    "            elif operation == '2':\n",
    "                print('**** /Dashboard/View total deposits in the bank. ****')\n",
    "                load_deposit_transactions()\n",
    "\n",
    "            elif operation == '3':\n",
    "                print('**** /Dashboard/View total withdrawal in the bank. ****')\n",
    "                load_withdrawal_transactions()\n",
    "            \n",
    "            elif operation == '4':\n",
    "                print('**** /Dashboard/Check the total number of accounts. ****')\n",
    "                load_accounts()\n",
    "                        \n",
    "            elif operation == '5':\n",
    "                print('Exit')\n",
    "                break\n",
    "                \n",
    "            else:\n",
    "                print('Invalid option. Please select a valid operation.')\n",
    "        \n",
    "        except ValueError:\n",
    "            print('Invalid input. Please enter a valid input.')"
   ]
  },
  {
   "cell_type": "code",
   "execution_count": 135,
   "id": "e160c9e4-72a2-41a5-92ab-e52a649af90f",
   "metadata": {},
   "outputs": [],
   "source": [
    "# Create an account\n",
    "def create_account(account_title, account_number, user_name ,initial_balance=0.0):\n",
    "    if (account_title == '' or account_number == ''):\n",
    "        print('ERROR: Account title and Account number is required field to create account')\n",
    "        return\n",
    "    account = {\n",
    "        \"user_name\": user_name,\n",
    "        \"account_title\": account_title,\n",
    "        \"account_number\": account_number,\n",
    "        \"balance\": initial_balance,\n",
    "        \"transactions\": []\n",
    "    }\n",
    "    record_user(account)\n",
    "    print(f\"====== Congratulations! Account for {account_title} created with balance ${initial_balance}. ======\")\n",
    "    return account"
   ]
  },
  {
   "cell_type": "code",
   "execution_count": 136,
   "id": "df0c7853-d499-4b40-ab1b-298fa932cc8a",
   "metadata": {},
   "outputs": [],
   "source": [
    "# Record User to file.\n",
    "def record_user(account):\n",
    "    with open(USER_FILE, \"a\") as file:\n",
    "        file.write(f\"{account['user_name']},{account['user_name']},user\\n\")\n",
    "        \n",
    "    with open(ACCOUNTS_FILE, \"a\") as file:\n",
    "        file.write(f\"{account['user_name']},{account['account_title']},{account['account_number']},{account['balance']}\\n\")"
   ]
  },
  {
   "cell_type": "code",
   "execution_count": 137,
   "id": "9a267056-de80-4911-8003-93edf5b0c417",
   "metadata": {},
   "outputs": [],
   "source": [
    "def load_user(account_no_filter):\n",
    "    if not os.path.exists(ACCOUNTS_FILE):\n",
    "        print(\"No user data found.\")\n",
    "        return None\n",
    "\n",
    "    with open(ACCOUNTS_FILE, \"r\") as file:\n",
    "        users = file.readlines()\n",
    "        for user in users:\n",
    "            user_name, account_title, account_number, balance = user.strip().split(\",\")\n",
    "            if account_no_filter == account_number:\n",
    "                # print(f\"Account Title: {title} (CNIC: {cnic}) loaded with balance ${balance}.\")\n",
    "                return {\n",
    "                    \"user_name\": user_name,\n",
    "                    \"account_title\": account_title,\n",
    "                    \"account_number\": account_number,\n",
    "                    \"balance\": float(balance)\n",
    "                }\n",
    "    print(f\"No record found with Account Number {account_no_filter}.\")\n",
    "    return None"
   ]
  },
  {
   "cell_type": "code",
   "execution_count": 138,
   "id": "d0f485dd-02e5-4f21-adc0-2e91cdb2e0f0",
   "metadata": {},
   "outputs": [],
   "source": [
    "# Deposit function\n",
    "def deposit(account, amount):\n",
    "    if amount <= 0:\n",
    "        print(\"Error: Deposit amount must be positive.\")\n",
    "        return account\n",
    "    \n",
    "    account[\"balance\"] += amount\n",
    "    record_transaction(account[\"account_number\"], \"Deposit\", amount, account[\"balance\"])\n",
    "    update_user_balance(account[\"account_number\"], account[\"balance\"])\n",
    "    print(f\"====== {account['account_title']} deposited ${amount}. New balance: ${account['balance']:.2f}. ======\")\n",
    "    return account"
   ]
  },
  {
   "cell_type": "code",
   "execution_count": 139,
   "id": "d6c24d94-4230-4e13-9419-d3072066b7ad",
   "metadata": {},
   "outputs": [],
   "source": [
    "# Record Transaction to file.\n",
    "# transaction_type: Deposit, Withdrawal\n",
    "def record_transaction(account_number, transaction_type, amount, balance):\n",
    "    with open(TRANSACTION_FILE, \"a\") as file:\n",
    "        file.write(f\"{account_number},{transaction_type},{amount},{balance}\\n\")"
   ]
  },
  {
   "cell_type": "code",
   "execution_count": 140,
   "id": "b5e62c90-a4de-4221-aea9-3d26134d4004",
   "metadata": {},
   "outputs": [],
   "source": [
    "# Update balance in USERS.txt\n",
    "def update_user_balance(account_no_filter, new_balance):\n",
    "    if not os.path.exists(USER_FILE):\n",
    "        print(\"User list file not found.\")\n",
    "        return\n",
    "\n",
    "    with open(ACCOUNTS_FILE, \"r\") as file:\n",
    "        users = file.readlines()\n",
    "\n",
    "    updated_users = []\n",
    "    for user in users:\n",
    "        user_name, account_title, account_number, balance = user.strip().split(\",\")\n",
    "        if account_no_filter == account_number:\n",
    "            updated_users.append(f\"{user_name},{account_title},{account_number},{new_balance:.2f}\\n\")\n",
    "        else:\n",
    "            updated_users.append(user)\n",
    "\n",
    "    with open(ACCOUNTS_FILE, \"w\") as file:\n",
    "        file.writelines(updated_users)"
   ]
  },
  {
   "cell_type": "code",
   "execution_count": 141,
   "id": "df2bed88-4549-40f3-9ec3-b7f968f59827",
   "metadata": {},
   "outputs": [],
   "source": [
    "# Withdraw function\n",
    "def withdraw(account, amount):\n",
    "    if amount <= 0:\n",
    "        print(\"Error: Withdrawal amount must be positive.\")\n",
    "        return account\n",
    "    \n",
    "    if amount > account[\"balance\"]:\n",
    "        print(\"Error: Insufficient balance.\")\n",
    "        return account\n",
    "    \n",
    "    account[\"balance\"] -= amount\n",
    "    record_transaction(account[\"account_number\"], \"Withdrawal\", amount, account[\"balance\"])\n",
    "    update_user_balance(account[\"account_number\"], account[\"balance\"])\n",
    "    print(f\"====== {account['account_title']} withdrew ${amount}. New balance: ${account['balance']:.2f}. ======\")\n",
    "    return account"
   ]
  },
  {
   "cell_type": "code",
   "execution_count": 148,
   "id": "b54dedb7-c470-4202-8a6d-a2d17a9bd79c",
   "metadata": {},
   "outputs": [],
   "source": [
    "# Load Statement Function\n",
    "def load_statement(account):\n",
    "    if not os.path.exists(TRANSACTION_FILE):\n",
    "        print(\"No transactions data found.\")\n",
    "        return None\n",
    "        \n",
    "    with open(TRANSACTION_FILE, \"r\") as file:\n",
    "        transactions = file.readlines()\n",
    "        user_transactions = []\n",
    "        for transaction in transactions:\n",
    "            account_number, transaction_type, amount, balance = transaction.strip().split(\",\")\n",
    "            if account['account_number'] == account_number:\n",
    "                user_transactions.append({\n",
    "                    \"transaction_type\": transaction_type,\n",
    "                    \"amount\": float(amount),\n",
    "                    \"balance\": float(balance)\n",
    "                })\n",
    "        if not user_transactions:\n",
    "            print(f\"No transactions found for account holder {account['account_title']}.\")\n",
    "            return None\n",
    "        else:\n",
    "            print(f\"\\nTransactions for {account['account_title']}:\")\n",
    "            \n",
    "            for transaction in user_transactions:\n",
    "                print(f\"{transaction['transaction_type']} - Amount: {transaction['amount']} - Balance: {transaction['balance']}\")"
   ]
  },
  {
   "cell_type": "code",
   "execution_count": 143,
   "id": "9be42c2d-2acd-49d6-b740-2cd9ab6faab2",
   "metadata": {},
   "outputs": [],
   "source": [
    "def load_accounts():\n",
    "    if not os.path.exists(ACCOUNTS_FILE):\n",
    "        print(\"No accounts data found.\")\n",
    "        return None\n",
    "\n",
    "    with open(ACCOUNTS_FILE, \"r\") as file:\n",
    "        users = file.readlines()\n",
    "        for user in users:\n",
    "            user_name, account_title, account_number, balance = user.strip().split(\",\")\n",
    "            print(f\"{user_name} - {account_title} - {account_number} - {balance}\")"
   ]
  },
  {
   "cell_type": "code",
   "execution_count": 144,
   "id": "49c746d9-80ba-4ace-ac47-782c7dc30280",
   "metadata": {},
   "outputs": [],
   "source": [
    "def load_deposit_transactions():\n",
    "    if not os.path.exists(TRANSACTION_FILE):\n",
    "        print(\"No accounts data found.\")\n",
    "        return None\n",
    "\n",
    "    with open(TRANSACTION_FILE, \"r\") as file:\n",
    "        transactions = file.readlines()\n",
    "        deposit_transactions = []\n",
    "        for transaction in transactions:\n",
    "            account_number, transaction_type, amount, balance = transaction.strip().split(\",\")\n",
    "            if transaction_type.lower() == 'deposit':\n",
    "                deposit_transactions.append({\n",
    "                        \"account_number\": account_number,\n",
    "                        \"transaction_type\": transaction_type,\n",
    "                        \"amount\": float(amount)\n",
    "                    })\n",
    "        if not deposit_transactions:\n",
    "            print(f\"No transactions found.\")\n",
    "            return None\n",
    "        else:\n",
    "            for transaction in deposit_transactions:\n",
    "                print(f\"{transaction['account_number']} - {transaction['transaction_type']} - Amount: {transaction['amount']}\")"
   ]
  },
  {
   "cell_type": "code",
   "execution_count": 145,
   "id": "8a9e145c-be60-404f-9a54-02d0099e7317",
   "metadata": {},
   "outputs": [],
   "source": [
    "def load_withdrawal_transactions():\n",
    "    if not os.path.exists(TRANSACTION_FILE):\n",
    "        print(\"No accounts data found.\")\n",
    "        return None\n",
    "\n",
    "    with open(TRANSACTION_FILE, \"r\") as file:\n",
    "        transactions = file.readlines()\n",
    "        withdrawal_transactions = []\n",
    "        for transaction in transactions:\n",
    "            account_number, transaction_type, amount, balance = transaction.strip().split(\",\")\n",
    "            if transaction_type.lower() == 'withdrawal':\n",
    "                withdrawal_transactions.append({\n",
    "                        \"account_number\": account_number,\n",
    "                        \"transaction_type\": transaction_type,\n",
    "                        \"amount\": float(amount)\n",
    "                    })\n",
    "        if not withdrawal_transactions:\n",
    "            print(f\"No transactions found.\")\n",
    "            return None\n",
    "        else:\n",
    "            for transaction in withdrawal_transactions:\n",
    "                print(f\"{transaction['account_number']} - {transaction['transaction_type']} - Amount: {transaction['amount']}\")"
   ]
  },
  {
   "cell_type": "code",
   "execution_count": 149,
   "id": "33cc14df-7b83-4e6d-96bf-4f42a17d323b",
   "metadata": {},
   "outputs": [
    {
     "name": "stdout",
     "output_type": "stream",
     "text": [
      "\n",
      "1 > Continue to Login\n",
      "2 > Exit\n",
      "\n"
     ]
    },
    {
     "name": "stdin",
     "output_type": "stream",
     "text": [
      "Welcome to Banking System. Do you want to Continue? (Y to Continue) (N to Exit) 1\n",
      "Enter UserName:  usman\n",
      "Enter Password:  usman\n"
     ]
    },
    {
     "name": "stdout",
     "output_type": "stream",
     "text": [
      "\n",
      "/Dashboard\n",
      "***** Hello usman - USER *****\n",
      "1 > Check Balance\n",
      "2 > Deposit Amount\n",
      "3 > Withdraw Amount\n",
      "4 > Statement\n",
      "5 > Exit\n",
      "\n"
     ]
    },
    {
     "name": "stdin",
     "output_type": "stream",
     "text": [
      "Select what operation to perform:  4\n"
     ]
    },
    {
     "name": "stdout",
     "output_type": "stream",
     "text": [
      "**** /Dashboard/Statement ****\n"
     ]
    },
    {
     "name": "stdin",
     "output_type": "stream",
     "text": [
      "Enter your account number:  usman_123\n"
     ]
    },
    {
     "name": "stdout",
     "output_type": "stream",
     "text": [
      "\n",
      "Transactions for Muhammad Usman:\n",
      "Deposit - Amount: 50.0 - Balance: 50.0\n",
      "Deposit - Amount: 25.0 - Balance: 75.0\n",
      "Withdrawal - Amount: 10.0 - Balance: 65.0\n",
      "Deposit - Amount: 20.0 - Balance: 85.0\n",
      "\n",
      "/Dashboard\n",
      "***** Hello usman - USER *****\n",
      "1 > Check Balance\n",
      "2 > Deposit Amount\n",
      "3 > Withdraw Amount\n",
      "4 > Statement\n",
      "5 > Exit\n",
      "\n"
     ]
    },
    {
     "name": "stdin",
     "output_type": "stream",
     "text": [
      "Select what operation to perform:  5\n"
     ]
    },
    {
     "name": "stdout",
     "output_type": "stream",
     "text": [
      "Exit\n",
      "\n",
      "1 > Continue to Login\n",
      "2 > Exit\n",
      "\n"
     ]
    },
    {
     "name": "stdin",
     "output_type": "stream",
     "text": [
      "Welcome to Banking System. Do you want to Continue? (Y to Continue) (N to Exit) 2\n"
     ]
    },
    {
     "name": "stdout",
     "output_type": "stream",
     "text": [
      "Quiting System.\n"
     ]
    }
   ],
   "source": [
    "main()"
   ]
  },
  {
   "cell_type": "code",
   "execution_count": null,
   "id": "83bbf39f-fbbc-47f9-b328-596199ee95f4",
   "metadata": {},
   "outputs": [],
   "source": []
  }
 ],
 "metadata": {
  "kernelspec": {
   "display_name": "Python 3 (ipykernel)",
   "language": "python",
   "name": "python3"
  },
  "language_info": {
   "codemirror_mode": {
    "name": "ipython",
    "version": 3
   },
   "file_extension": ".py",
   "mimetype": "text/x-python",
   "name": "python",
   "nbconvert_exporter": "python",
   "pygments_lexer": "ipython3",
   "version": "3.12.7"
  }
 },
 "nbformat": 4,
 "nbformat_minor": 5
}
